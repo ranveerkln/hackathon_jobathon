{
  "nbformat": 4,
  "nbformat_minor": 0,
  "metadata": {
    "colab": {
      "name": "xgb_parallel_finance.ipynb",
      "provenance": [],
      "collapsed_sections": [],
      "toc_visible": true,
      "machine_shape": "hm"
    },
    "kernelspec": {
      "name": "python3",
      "display_name": "Python 3"
    },
    "accelerator": "GPU"
  },
  "cells": [
    {
      "cell_type": "code",
      "metadata": {
        "id": "ylkiymt5UJKt"
      },
      "source": [
        "!pip3 install category_encoders\r\n",
        "!pip3 install catboost\r\n",
        "!pip3 install xgboost"
      ],
      "execution_count": null,
      "outputs": []
    },
    {
      "cell_type": "code",
      "metadata": {
        "id": "5VE1mi4aJT3q"
      },
      "source": [
        "import pandas as pd\r\n",
        "import numpy as np\r\n",
        "from prettytable import PrettyTable\r\n",
        "from collections import Counter\r\n",
        "import matplotlib.pyplot as plt\r\n",
        "import seaborn as sns\r\n",
        "import scipy , math\r\n",
        "import warnings\r\n",
        "warnings.filterwarnings(\"ignore\")\r\n",
        "from collections import Counter\r\n",
        "from tqdm import tqdm\r\n",
        "from sklearn.neighbors import LocalOutlierFactor, KNeighborsClassifier\r\n",
        "from sklearn.model_selection import train_test_split\r\n",
        "from sklearn.metrics import classification_report, confusion_matrix, accuracy_score, roc_auc_score, precision_recall_fscore_support, roc_curve, f1_score\r\n",
        "from sklearn.preprocessing import StandardScaler\r\n",
        "from sklearn.ensemble import RandomForestClassifier, GradientBoostingClassifier\r\n",
        "from sklearn.linear_model import LogisticRegression\r\n",
        "from imblearn.under_sampling import RandomUnderSampler\r\n",
        "from imblearn.over_sampling import RandomOverSampler\r\n",
        "from imblearn.over_sampling import SMOTE\r\n",
        "from sklearn.model_selection import GridSearchCV\r\n",
        "from sklearn.ensemble import AdaBoostClassifier\r\n",
        "import category_encoders as ce\r\n",
        "import random\r\n",
        "from sklearn.experimental import enable_iterative_imputer\r\n",
        "from sklearn.impute import IterativeImputer, SimpleImputer\r\n",
        "from sklearn.preprocessing import LabelEncoder\r\n",
        "from xgboost import XGBClassifier"
      ],
      "execution_count": 3,
      "outputs": []
    },
    {
      "cell_type": "code",
      "metadata": {
        "colab": {
          "base_uri": "https://localhost:8080/"
        },
        "id": "LoiddnqLsRLG",
        "outputId": "b65b3ade-0b92-419a-9a72-835f5fc2d1c9"
      },
      "source": [
        "from google.colab import drive\n",
        "drive.mount('/content/drive')"
      ],
      "execution_count": 4,
      "outputs": [
        {
          "output_type": "stream",
          "text": [
            "Mounted at /content/drive\n"
          ],
          "name": "stdout"
        }
      ]
    },
    {
      "cell_type": "code",
      "metadata": {
        "id": "0cM_dH_Ra07X"
      },
      "source": [
        "!cp -r '/content/drive/MyDrive/fashion_data/jobthon' jobthon\r\n",
        "!cp jobthon/train_Df64byy.csv train.csv\r\n",
        "!cp jobthon/test_YCcRUnU.csv test.csv\r\n",
        "!cp jobthon/sample_submission_QrCyCoT.csv sample_submission.csv"
      ],
      "execution_count": 5,
      "outputs": []
    },
    {
      "cell_type": "code",
      "metadata": {
        "colab": {
          "base_uri": "https://localhost:8080/",
          "height": 232
        },
        "id": "txg9-l5vg4vg",
        "outputId": "a3e63b8f-5904-4376-fd82-f9a7b1009630"
      },
      "source": [
        "df = pd.read_csv('train.csv')\r\n",
        "df.drop(['ID'], inplace = True, axis = 1)\r\n",
        "df.head(5)"
      ],
      "execution_count": 326,
      "outputs": [
        {
          "output_type": "execute_result",
          "data": {
            "text/html": [
              "<div>\n",
              "<style scoped>\n",
              "    .dataframe tbody tr th:only-of-type {\n",
              "        vertical-align: middle;\n",
              "    }\n",
              "\n",
              "    .dataframe tbody tr th {\n",
              "        vertical-align: top;\n",
              "    }\n",
              "\n",
              "    .dataframe thead th {\n",
              "        text-align: right;\n",
              "    }\n",
              "</style>\n",
              "<table border=\"1\" class=\"dataframe\">\n",
              "  <thead>\n",
              "    <tr style=\"text-align: right;\">\n",
              "      <th></th>\n",
              "      <th>City_Code</th>\n",
              "      <th>Region_Code</th>\n",
              "      <th>Accomodation_Type</th>\n",
              "      <th>Reco_Insurance_Type</th>\n",
              "      <th>Upper_Age</th>\n",
              "      <th>Lower_Age</th>\n",
              "      <th>Is_Spouse</th>\n",
              "      <th>Health Indicator</th>\n",
              "      <th>Holding_Policy_Duration</th>\n",
              "      <th>Holding_Policy_Type</th>\n",
              "      <th>Reco_Policy_Cat</th>\n",
              "      <th>Reco_Policy_Premium</th>\n",
              "      <th>Response</th>\n",
              "    </tr>\n",
              "  </thead>\n",
              "  <tbody>\n",
              "    <tr>\n",
              "      <th>0</th>\n",
              "      <td>C3</td>\n",
              "      <td>3213</td>\n",
              "      <td>Rented</td>\n",
              "      <td>Individual</td>\n",
              "      <td>36</td>\n",
              "      <td>36</td>\n",
              "      <td>No</td>\n",
              "      <td>X1</td>\n",
              "      <td>14+</td>\n",
              "      <td>3.0</td>\n",
              "      <td>22</td>\n",
              "      <td>11628.0</td>\n",
              "      <td>0</td>\n",
              "    </tr>\n",
              "    <tr>\n",
              "      <th>1</th>\n",
              "      <td>C5</td>\n",
              "      <td>1117</td>\n",
              "      <td>Owned</td>\n",
              "      <td>Joint</td>\n",
              "      <td>75</td>\n",
              "      <td>22</td>\n",
              "      <td>No</td>\n",
              "      <td>X2</td>\n",
              "      <td>NaN</td>\n",
              "      <td>NaN</td>\n",
              "      <td>22</td>\n",
              "      <td>30510.0</td>\n",
              "      <td>0</td>\n",
              "    </tr>\n",
              "    <tr>\n",
              "      <th>2</th>\n",
              "      <td>C5</td>\n",
              "      <td>3732</td>\n",
              "      <td>Owned</td>\n",
              "      <td>Individual</td>\n",
              "      <td>32</td>\n",
              "      <td>32</td>\n",
              "      <td>No</td>\n",
              "      <td>NaN</td>\n",
              "      <td>1.0</td>\n",
              "      <td>1.0</td>\n",
              "      <td>19</td>\n",
              "      <td>7450.0</td>\n",
              "      <td>1</td>\n",
              "    </tr>\n",
              "    <tr>\n",
              "      <th>3</th>\n",
              "      <td>C24</td>\n",
              "      <td>4378</td>\n",
              "      <td>Owned</td>\n",
              "      <td>Joint</td>\n",
              "      <td>52</td>\n",
              "      <td>48</td>\n",
              "      <td>No</td>\n",
              "      <td>X1</td>\n",
              "      <td>14+</td>\n",
              "      <td>3.0</td>\n",
              "      <td>19</td>\n",
              "      <td>17780.0</td>\n",
              "      <td>0</td>\n",
              "    </tr>\n",
              "    <tr>\n",
              "      <th>4</th>\n",
              "      <td>C8</td>\n",
              "      <td>2190</td>\n",
              "      <td>Rented</td>\n",
              "      <td>Individual</td>\n",
              "      <td>44</td>\n",
              "      <td>44</td>\n",
              "      <td>No</td>\n",
              "      <td>X2</td>\n",
              "      <td>3.0</td>\n",
              "      <td>1.0</td>\n",
              "      <td>16</td>\n",
              "      <td>10404.0</td>\n",
              "      <td>0</td>\n",
              "    </tr>\n",
              "  </tbody>\n",
              "</table>\n",
              "</div>"
            ],
            "text/plain": [
              "  City_Code  Region_Code  ... Reco_Policy_Premium Response\n",
              "0        C3         3213  ...             11628.0        0\n",
              "1        C5         1117  ...             30510.0        0\n",
              "2        C5         3732  ...              7450.0        1\n",
              "3       C24         4378  ...             17780.0        0\n",
              "4        C8         2190  ...             10404.0        0\n",
              "\n",
              "[5 rows x 13 columns]"
            ]
          },
          "metadata": {
            "tags": []
          },
          "execution_count": 326
        }
      ]
    },
    {
      "cell_type": "markdown",
      "metadata": {
        "id": "vlkSmVQKeZ0S"
      },
      "source": [
        "##1)Couple_Response_Rate"
      ]
    },
    {
      "cell_type": "code",
      "metadata": {
        "colab": {
          "base_uri": "https://localhost:8080/"
        },
        "id": "PcrcA4P1d6L8",
        "outputId": "0084296a-d8be-4b7e-e4f9-ff52ae1f90b4"
      },
      "source": [
        "#In case of Joint account if they are couples what is the chance of getting Response as 1\r\n",
        "\r\n",
        "couple_count = len(df[(df.Reco_Insurance_Type == 'Joint') & (df.Is_Spouse == 'Yes')])\r\n",
        "num = len(df[(df.Reco_Insurance_Type == 'Joint') & (df.Is_Spouse == 'Yes') & (df.Response == 1)])\r\n",
        "\r\n",
        "print(num, couple_count)    ### At test time just use num and couple_count dont calculate it\r\n",
        "df['couple_response_rate'] = df.apply(lambda x : (num/couple_count) if (x['Reco_Insurance_Type'] == 'Joint' and x['Is_Spouse'] == 'Yes') else 0, axis = 1)"
      ],
      "execution_count": 337,
      "outputs": [
        {
          "output_type": "stream",
          "text": [
            "2052 8422\n"
          ],
          "name": "stdout"
        }
      ]
    },
    {
      "cell_type": "markdown",
      "metadata": {
        "id": "f1UyWJLRwwal"
      },
      "source": [
        "#Missing value of Holding Policy Type \r\n",
        "   Here we are considering that if policy type is missing then that customer do not have policy so, create new policy type indicating customer do not have any policy. Same is true for 'Holding_Policy_Duration'\r\n"
      ]
    },
    {
      "cell_type": "code",
      "metadata": {
        "id": "7rRDUMDN8T25"
      },
      "source": [
        "df['Hold_Policy'] = df['Holding_Policy_Type'].apply(lambda x : 0 if math.isnan(x) else 1)\r\n",
        "df['Holding_Policy_Type'] = df['Holding_Policy_Type'].apply(lambda x : 0.0 if math.isnan(x) else x)\r\n",
        "\r\n",
        "df['Holding_Policy_Duration'] = df['Holding_Policy_Duration'].apply(lambda x : 15.0 if x == '14+' else x)\r\n",
        "df['Holding_Policy_Duration'] = df['Holding_Policy_Duration'].apply(lambda x : 0 if math.isnan(float(x)) else x)\r\n",
        "df['Holding_Policy_Duration'] = df['Holding_Policy_Duration'].apply(lambda x : int(float(x))).astype(int)\r\n",
        "\r\n",
        "df['Health_Missing'] = df['Health Indicator'].apply(lambda x : 1 if str(x)[0] != 'X' else 0)\r\n",
        "df['Reco_Policy_Premium'] = df['Reco_Policy_Premium'].apply(lambda x : int(float(x))).astype(int)\r\n",
        "\r\n",
        "df.fillna(value = 'X0', inplace = True)\r\n",
        "\r\n",
        "cat4 = ['City_Code', 'Region_Code', 'Accomodation_Type', 'Reco_Insurance_Type', 'Is_Spouse', \\\r\n",
        "           'Health Indicator', 'Holding_Policy_Duration', 'Holding_Policy_Type', 'Reco_Policy_Cat', 'Hold_Policy', 'Health_Missing']\r\n",
        "\r\n",
        "numeric_features = ['Upper_Age', 'Lower_Age', 'Reco_Policy_Premium', 'couple_response_rate']\r\n",
        "\r\n",
        "# All categorical features got converted into labels using label encoder Nan is not touched\r\n",
        "\r\n",
        "label_dict = {}\r\n",
        "def label(df):\r\n",
        "    _df = df.copy()\r\n",
        "    for col in cat4 :\r\n",
        "        le = LabelEncoder()\r\n",
        "        idx = ~_df[col].isna()\r\n",
        "        _df.loc[idx, col] = le.fit_transform(_df.loc[idx, col])\r\n",
        "        label_dict[col] = le\r\n",
        "    return _df\r\n",
        "\r\n",
        "df_new = label(df)"
      ],
      "execution_count": 328,
      "outputs": []
    },
    {
      "cell_type": "markdown",
      "metadata": {
        "id": "bm9bGkXfO9Zz"
      },
      "source": [
        "#Adding New Features"
      ]
    },
    {
      "cell_type": "markdown",
      "metadata": {
        "id": "7TAQ1fFDRH4i"
      },
      "source": [
        "##2) Is Big City"
      ]
    },
    {
      "cell_type": "code",
      "metadata": {
        "id": "o6odDcPVU2W5"
      },
      "source": [
        "group_city = df_new.groupby('City_Code')['Region_Code'].agg('nunique')\r\n",
        "df_new['is_big_city'] = df_new['City_Code'].apply(lambda x : group_city.at[x])\r\n",
        "numeric_features.append('is_big_city')"
      ],
      "execution_count": 258,
      "outputs": []
    },
    {
      "cell_type": "markdown",
      "metadata": {
        "id": "4709lBxwSPaf"
      },
      "source": [
        "##3) Prob_Estimate"
      ]
    },
    {
      "cell_type": "code",
      "metadata": {
        "id": "Mu5mPM8WRbBo"
      },
      "source": [
        "# Old Guy + Already hold policy for long duration (Old Customer) + Rich meaning owns the house\r\n",
        "\r\n",
        "df_prob = pd.DataFrame()\r\n",
        "df_prob['old_guy'] = df_new.Upper_Age.apply(lambda x : 1 if x > 40 else 0)\r\n",
        "df_prob['old_cust'] =  df_new.Holding_Policy_Duration.apply(lambda x : 1 if x > 7 else 0)\r\n",
        "df_prob['is_rich'] = df_new.Accomodation_Type.apply(lambda x : 1 if x == 'Owned' else 0)\r\n",
        "df_new['prob_estimate'] = (df_prob['old_guy'] + df_prob['old_cust'] + df_prob['is_rich']) / 3\r\n",
        "numeric_features.append('prob_estimate')"
      ],
      "execution_count": 259,
      "outputs": []
    },
    {
      "cell_type": "markdown",
      "metadata": {
        "id": "1LTaWVS3U6ao"
      },
      "source": [
        "##4)City_Response"
      ]
    },
    {
      "cell_type": "code",
      "metadata": {
        "id": "uQnAizYsVPpS"
      },
      "source": [
        "city_response = {}\r\n",
        "\r\n",
        "for city in set(df_new.City_Code) :\r\n",
        "    city_response[city] = len(df_new[(df_new.City_Code == city) & (df_new.Response == 1)]) / len(df_new[df_new.Response == 1])\r\n",
        "\r\n",
        "df_new['city_response_rate'] = df_new.City_Code.apply(lambda x : city_response[x])\r\n",
        "numeric_features.append('city_response_rate')\r\n",
        "data = df_new.copy()"
      ],
      "execution_count": 260,
      "outputs": []
    },
    {
      "cell_type": "code",
      "metadata": {
        "id": "qtdGfgCzmtp_"
      },
      "source": [
        "cat4.remove('Region_Code')   ## must run if features are not removed using above stats techniques / tests"
      ],
      "execution_count": 261,
      "outputs": []
    },
    {
      "cell_type": "markdown",
      "metadata": {
        "id": "hBFfxiRLtSvh"
      },
      "source": [
        "#2)XGBoost"
      ]
    },
    {
      "cell_type": "code",
      "metadata": {
        "id": "XEv1uDoBWjQ8"
      },
      "source": [
        "df_new2 = data.copy()\r\n",
        "new_df = df_new2.copy()\r\n",
        "Y = new_df.Response\r\n",
        "new_df.drop(['Response'], axis = 1, inplace = True)\r\n",
        "new_df = pd.get_dummies(new_df, columns = cat4)\r\n",
        "x_train, x_test, y_train, y_test = train_test_split(new_df, Y, stratify = Y, test_size = 0.2, random_state = 24)"
      ],
      "execution_count": 262,
      "outputs": []
    },
    {
      "cell_type": "markdown",
      "metadata": {
        "id": "-p0_mciK8HBU"
      },
      "source": [
        "#Applying Frequency Encoding on Region Code"
      ]
    },
    {
      "cell_type": "code",
      "metadata": {
        "id": "su78kR_8ra-_"
      },
      "source": [
        "## Dont run this cell if you have used stats methods to the remove features\r\n",
        "\r\n",
        "fq = x_train.groupby('Region_Code').size()/len(x_train)  \r\n",
        "\r\n",
        "x_train['Freq_Region'] = x_train['Region_Code'].apply(lambda x : fq.at[x])\r\n",
        "x_train.drop(['Region_Code'], axis = 1, inplace = True)\r\n",
        "\r\n",
        "x_test['Freq_Region'] = x_test['Region_Code'].apply(lambda x : fq.at[x] if x in fq.index else 0.0)\r\n",
        "x_test.drop(['Region_Code'], axis = 1, inplace = True)\r\n",
        "numeric_features.append('Freq_Region')"
      ],
      "execution_count": 263,
      "outputs": []
    },
    {
      "cell_type": "markdown",
      "metadata": {
        "id": "MxN7BJewxIBG"
      },
      "source": [
        "#Tune The Model"
      ]
    },
    {
      "cell_type": "code",
      "metadata": {
        "id": "MMdkn7N6WjQ8"
      },
      "source": [
        "scaler = StandardScaler()\r\n",
        "x_train_fitted = scaler.fit_transform(x_train)\r\n",
        "x_test_fitted = scaler.transform(x_test)\r\n",
        "\r\n",
        "#x_train_fitted, x_test_fitted = x_train, x_test     ## uncomment it when you do not use scaler\r\n",
        "\r\n",
        "x_train_new, y_train_new = x_train_fitted, y_train   ## Added this line in case you do not want to try any class balancing technique\r\n",
        "\r\n",
        "oversample = RandomOverSampler(random_state = 12)\r\n",
        "x_train_new, y_train_new = oversample.fit_resample(x_train_fitted, y_train)\r\n",
        "\r\n",
        "#undersample = RandomUnderSampler(random_state = 12)\r\n",
        "#x_train_new, y_train_new = undersample.fit_resample(x_train_fitted, y_train)\r\n",
        "\r\n",
        "#smote = SMOTE(random_state = 50, k_neighbors = 5)\r\n",
        "#x_train_new, y_train_new = smote.fit_resample(x_train_fitted, y_train)\r\n"
      ],
      "execution_count": 264,
      "outputs": []
    },
    {
      "cell_type": "code",
      "metadata": {
        "id": "0fIU3XdWKqnB"
      },
      "source": [
        "for lr in np.linspace(0.01, 0.1, 10) :\r\n",
        "    for est in list(range(40, 150, 20)) :\r\n",
        "        for depth in [2, 5, 7,8, 9, 10] :\r\n",
        "            model= XGBClassifier(silent=False, \r\n",
        "                      learning_rate=lr,  \r\n",
        "                      colsample_bytree = 0.4,\r\n",
        "                      subsample = 0.6,\r\n",
        "                      n_estimators=est, \r\n",
        "                      max_depth=depth)\r\n",
        "            model.fit(x_train_new, y_train_new)\r\n",
        "            print(lr, est, depth, 'Train = ', roc_auc_score(y_train_new, model.predict_proba(x_train_new)[:, 1]))\r\n",
        "            print('Validation = ', roc_auc_score(y_test, model.predict_proba(x_test_fitted)[:, 1]))\r\n"
      ],
      "execution_count": null,
      "outputs": []
    },
    {
      "cell_type": "code",
      "metadata": {
        "colab": {
          "base_uri": "https://localhost:8080/"
        },
        "id": "5vKdohog9y2m",
        "outputId": "cc2c2242-5519-4895-964b-62b1bf82e5e8"
      },
      "source": [
        "model= XGBClassifier(silent=False, \r\n",
        "                      learning_rate= 0.01,  \r\n",
        "                      colsample_bytree = 0.4,\r\n",
        "                      subsample = 0.6,\r\n",
        "                      n_estimators=140, \r\n",
        "                      max_depth=10)\r\n",
        "model.fit(x_train_new, y_train_new)"
      ],
      "execution_count": 265,
      "outputs": [
        {
          "output_type": "execute_result",
          "data": {
            "text/plain": [
              "XGBClassifier(base_score=0.5, booster='gbtree', colsample_bylevel=1,\n",
              "              colsample_bynode=1, colsample_bytree=0.4, gamma=0,\n",
              "              learning_rate=0.01, max_delta_step=0, max_depth=10,\n",
              "              min_child_weight=1, missing=None, n_estimators=140, n_jobs=1,\n",
              "              nthread=None, objective='binary:logistic', random_state=0,\n",
              "              reg_alpha=0, reg_lambda=1, scale_pos_weight=1, seed=None,\n",
              "              silent=False, subsample=0.6, verbosity=1)"
            ]
          },
          "metadata": {
            "tags": []
          },
          "execution_count": 265
        }
      ]
    },
    {
      "cell_type": "markdown",
      "metadata": {
        "id": "TXGFgMyOJTfP"
      },
      "source": [
        "#Submitting File"
      ]
    },
    {
      "cell_type": "code",
      "metadata": {
        "colab": {
          "base_uri": "https://localhost:8080/",
          "height": 232
        },
        "id": "Ej6Xao0cJS17",
        "outputId": "2529fbbc-4540-4e83-82ba-547a3ce42203"
      },
      "source": [
        "test_df = pd.read_csv('test.csv')\r\n",
        "ids = test_df.ID.values\r\n",
        "test_df.drop(['ID'], inplace = True, axis = 1)\r\n",
        "test_df.head()"
      ],
      "execution_count": 375,
      "outputs": [
        {
          "output_type": "execute_result",
          "data": {
            "text/html": [
              "<div>\n",
              "<style scoped>\n",
              "    .dataframe tbody tr th:only-of-type {\n",
              "        vertical-align: middle;\n",
              "    }\n",
              "\n",
              "    .dataframe tbody tr th {\n",
              "        vertical-align: top;\n",
              "    }\n",
              "\n",
              "    .dataframe thead th {\n",
              "        text-align: right;\n",
              "    }\n",
              "</style>\n",
              "<table border=\"1\" class=\"dataframe\">\n",
              "  <thead>\n",
              "    <tr style=\"text-align: right;\">\n",
              "      <th></th>\n",
              "      <th>City_Code</th>\n",
              "      <th>Region_Code</th>\n",
              "      <th>Accomodation_Type</th>\n",
              "      <th>Reco_Insurance_Type</th>\n",
              "      <th>Upper_Age</th>\n",
              "      <th>Lower_Age</th>\n",
              "      <th>Is_Spouse</th>\n",
              "      <th>Health Indicator</th>\n",
              "      <th>Holding_Policy_Duration</th>\n",
              "      <th>Holding_Policy_Type</th>\n",
              "      <th>Reco_Policy_Cat</th>\n",
              "      <th>Reco_Policy_Premium</th>\n",
              "    </tr>\n",
              "  </thead>\n",
              "  <tbody>\n",
              "    <tr>\n",
              "      <th>0</th>\n",
              "      <td>C1</td>\n",
              "      <td>156</td>\n",
              "      <td>Owned</td>\n",
              "      <td>Individual</td>\n",
              "      <td>30</td>\n",
              "      <td>30</td>\n",
              "      <td>No</td>\n",
              "      <td>NaN</td>\n",
              "      <td>6.0</td>\n",
              "      <td>3.0</td>\n",
              "      <td>5</td>\n",
              "      <td>11934.0</td>\n",
              "    </tr>\n",
              "    <tr>\n",
              "      <th>1</th>\n",
              "      <td>C4</td>\n",
              "      <td>7</td>\n",
              "      <td>Owned</td>\n",
              "      <td>Joint</td>\n",
              "      <td>69</td>\n",
              "      <td>68</td>\n",
              "      <td>Yes</td>\n",
              "      <td>X1</td>\n",
              "      <td>3.0</td>\n",
              "      <td>3.0</td>\n",
              "      <td>18</td>\n",
              "      <td>32204.8</td>\n",
              "    </tr>\n",
              "    <tr>\n",
              "      <th>2</th>\n",
              "      <td>C1</td>\n",
              "      <td>564</td>\n",
              "      <td>Rented</td>\n",
              "      <td>Individual</td>\n",
              "      <td>28</td>\n",
              "      <td>28</td>\n",
              "      <td>No</td>\n",
              "      <td>X3</td>\n",
              "      <td>2.0</td>\n",
              "      <td>4.0</td>\n",
              "      <td>17</td>\n",
              "      <td>9240.0</td>\n",
              "    </tr>\n",
              "    <tr>\n",
              "      <th>3</th>\n",
              "      <td>C3</td>\n",
              "      <td>1177</td>\n",
              "      <td>Rented</td>\n",
              "      <td>Individual</td>\n",
              "      <td>23</td>\n",
              "      <td>23</td>\n",
              "      <td>No</td>\n",
              "      <td>X3</td>\n",
              "      <td>3.0</td>\n",
              "      <td>3.0</td>\n",
              "      <td>18</td>\n",
              "      <td>9086.0</td>\n",
              "    </tr>\n",
              "    <tr>\n",
              "      <th>4</th>\n",
              "      <td>C1</td>\n",
              "      <td>951</td>\n",
              "      <td>Owned</td>\n",
              "      <td>Individual</td>\n",
              "      <td>75</td>\n",
              "      <td>75</td>\n",
              "      <td>No</td>\n",
              "      <td>X3</td>\n",
              "      <td>NaN</td>\n",
              "      <td>NaN</td>\n",
              "      <td>5</td>\n",
              "      <td>22534.0</td>\n",
              "    </tr>\n",
              "  </tbody>\n",
              "</table>\n",
              "</div>"
            ],
            "text/plain": [
              "  City_Code  Region_Code  ... Reco_Policy_Cat Reco_Policy_Premium\n",
              "0        C1          156  ...               5             11934.0\n",
              "1        C4            7  ...              18             32204.8\n",
              "2        C1          564  ...              17              9240.0\n",
              "3        C3         1177  ...              18              9086.0\n",
              "4        C1          951  ...               5             22534.0\n",
              "\n",
              "[5 rows x 12 columns]"
            ]
          },
          "metadata": {
            "tags": []
          },
          "execution_count": 375
        }
      ]
    },
    {
      "cell_type": "code",
      "metadata": {
        "id": "iuQVFgPj_Ixu"
      },
      "source": [
        "test_df['couple_response_rate'] = test_df.apply(lambda x : (num/couple_count) if (x['Reco_Insurance_Type'] == 'Joint' and x['Is_Spouse'] == 'Yes') else 0, axis = 1)"
      ],
      "execution_count": 376,
      "outputs": []
    },
    {
      "cell_type": "code",
      "metadata": {
        "id": "AHfFPRD7EPRb"
      },
      "source": [
        "def label_test(df) :\r\n",
        "    _df = df.copy()\r\n",
        "    for col in cat4:\r\n",
        "        le = label_dict[col]\r\n",
        "        dic = dict(zip(le.classes_, le.transform(le.classes_)))\r\n",
        "        _df[col] = _df[col].map(dic).fillna(0).astype(int) \r\n",
        "    return _df"
      ],
      "execution_count": 377,
      "outputs": []
    },
    {
      "cell_type": "code",
      "metadata": {
        "id": "7QBAo2na_Ixy"
      },
      "source": [
        "test_df['Hold_Policy'] = test_df['Holding_Policy_Type'].apply(lambda x : 0 if math.isnan(x) else 1)\r\n",
        "test_df['Holding_Policy_Type'] = test_df['Holding_Policy_Type'].apply(lambda x : 0.0 if math.isnan(x) else x)\r\n",
        "\r\n",
        "test_df['Holding_Policy_Duration'] = test_df['Holding_Policy_Duration'].apply(lambda x : 15.0 if x == '14+' else x)\r\n",
        "test_df['Holding_Policy_Duration'] = test_df['Holding_Policy_Duration'].apply(lambda x : 0 if math.isnan(float(x)) else x)\r\n",
        "test_df['Holding_Policy_Duration'] = test_df['Holding_Policy_Duration'].apply(lambda x : int(float(x))).astype(int)\r\n",
        "\r\n",
        "test_df['Health_Missing'] = test_df['Health Indicator'].apply(lambda x : 1 if str(x)[0] != 'X' else 0)\r\n",
        "test_df['Reco_Policy_Premium'] = test_df['Reco_Policy_Premium'].apply(lambda x : int(float(x))).astype(int)\r\n",
        "\r\n",
        "test_df.fillna(value = 'X0', inplace = True)\r\n",
        "\r\n",
        "cat4 = ['City_Code', 'Region_Code', 'Accomodation_Type', 'Reco_Insurance_Type', 'Is_Spouse', \\\r\n",
        "           'Health Indicator', 'Holding_Policy_Duration', 'Holding_Policy_Type', 'Reco_Policy_Cat', 'Hold_Policy', 'Health_Missing']\r\n",
        "\r\n",
        "numeric_features = ['Upper_Age', 'Lower_Age', 'Reco_Policy_Premium', 'couple_response_rate']\r\n",
        "\r\n",
        "test_df_new = label_test(test_df)"
      ],
      "execution_count": 378,
      "outputs": []
    },
    {
      "cell_type": "code",
      "metadata": {
        "id": "vPzTbdXd_Ixy"
      },
      "source": [
        "test_df_new['is_big_city'] = test_df_new['City_Code'].apply(lambda x : group_city.at[x] if x in group_city.index else 0)\r\n",
        "numeric_features.append('is_big_city')"
      ],
      "execution_count": 379,
      "outputs": []
    },
    {
      "cell_type": "code",
      "metadata": {
        "id": "J23LBOGSFjFh"
      },
      "source": [
        "# Old Guy + Already hold policy for long duration (Old Customer) + Rich meaning owns the house\r\n",
        "\r\n",
        "df_prob = pd.DataFrame()\r\n",
        "df_prob['old_guy'] = test_df_new.Upper_Age.apply(lambda x : 1 if x > 40 else 0)\r\n",
        "df_prob['old_cust'] =  test_df_new.Holding_Policy_Duration.apply(lambda x : 1 if x > 7 else 0)\r\n",
        "df_prob['is_rich'] = test_df_new.Accomodation_Type.apply(lambda x : 1 if x == 'Owned' else 0)\r\n",
        "test_df_new['prob_estimate'] = (df_prob['old_guy'] + df_prob['old_cust'] + df_prob['is_rich']) / 3\r\n",
        "numeric_features.append('prob_estimate')"
      ],
      "execution_count": 380,
      "outputs": []
    },
    {
      "cell_type": "code",
      "metadata": {
        "id": "Y1_SmntVFjFo"
      },
      "source": [
        "test_df_new['city_response_rate'] = test_df_new.City_Code.apply(lambda x : city_response[x] if x in city_response else 0)\r\n",
        "numeric_features.append('city_response_rate')"
      ],
      "execution_count": 381,
      "outputs": []
    },
    {
      "cell_type": "code",
      "metadata": {
        "id": "QjNKbHfAFjFo"
      },
      "source": [
        "cat4.remove('Region_Code')   ## must run if features are not removed using above stats techniques / tests"
      ],
      "execution_count": 382,
      "outputs": []
    },
    {
      "cell_type": "code",
      "metadata": {
        "id": "zifNDQgVGLf-",
        "colab": {
          "base_uri": "https://localhost:8080/",
          "height": 244
        },
        "outputId": "f9157446-fe75-4ee0-f61d-df7845e51b95"
      },
      "source": [
        "test_df_new = pd.get_dummies(test_df_new, columns = cat4)\r\n",
        "test_df_new = test_df_new.reindex(columns=new_df.columns, fill_value=0)\r\n",
        "test_df_new.head()"
      ],
      "execution_count": 383,
      "outputs": [
        {
          "output_type": "execute_result",
          "data": {
            "text/html": [
              "<div>\n",
              "<style scoped>\n",
              "    .dataframe tbody tr th:only-of-type {\n",
              "        vertical-align: middle;\n",
              "    }\n",
              "\n",
              "    .dataframe tbody tr th {\n",
              "        vertical-align: top;\n",
              "    }\n",
              "\n",
              "    .dataframe thead th {\n",
              "        text-align: right;\n",
              "    }\n",
              "</style>\n",
              "<table border=\"1\" class=\"dataframe\">\n",
              "  <thead>\n",
              "    <tr style=\"text-align: right;\">\n",
              "      <th></th>\n",
              "      <th>Region_Code</th>\n",
              "      <th>Upper_Age</th>\n",
              "      <th>Lower_Age</th>\n",
              "      <th>Reco_Policy_Premium</th>\n",
              "      <th>couple_response_rate</th>\n",
              "      <th>is_big_city</th>\n",
              "      <th>prob_estimate</th>\n",
              "      <th>city_response_rate</th>\n",
              "      <th>City_Code_0</th>\n",
              "      <th>City_Code_1</th>\n",
              "      <th>City_Code_2</th>\n",
              "      <th>City_Code_3</th>\n",
              "      <th>City_Code_4</th>\n",
              "      <th>City_Code_5</th>\n",
              "      <th>City_Code_6</th>\n",
              "      <th>City_Code_7</th>\n",
              "      <th>City_Code_8</th>\n",
              "      <th>City_Code_9</th>\n",
              "      <th>City_Code_10</th>\n",
              "      <th>City_Code_11</th>\n",
              "      <th>City_Code_12</th>\n",
              "      <th>City_Code_13</th>\n",
              "      <th>City_Code_14</th>\n",
              "      <th>City_Code_15</th>\n",
              "      <th>City_Code_16</th>\n",
              "      <th>City_Code_17</th>\n",
              "      <th>City_Code_18</th>\n",
              "      <th>City_Code_19</th>\n",
              "      <th>City_Code_20</th>\n",
              "      <th>City_Code_21</th>\n",
              "      <th>City_Code_22</th>\n",
              "      <th>City_Code_23</th>\n",
              "      <th>City_Code_24</th>\n",
              "      <th>City_Code_25</th>\n",
              "      <th>City_Code_26</th>\n",
              "      <th>City_Code_27</th>\n",
              "      <th>City_Code_28</th>\n",
              "      <th>City_Code_29</th>\n",
              "      <th>City_Code_30</th>\n",
              "      <th>City_Code_31</th>\n",
              "      <th>...</th>\n",
              "      <th>Holding_Policy_Duration_7</th>\n",
              "      <th>Holding_Policy_Duration_8</th>\n",
              "      <th>Holding_Policy_Duration_9</th>\n",
              "      <th>Holding_Policy_Duration_10</th>\n",
              "      <th>Holding_Policy_Duration_11</th>\n",
              "      <th>Holding_Policy_Duration_12</th>\n",
              "      <th>Holding_Policy_Duration_13</th>\n",
              "      <th>Holding_Policy_Duration_14</th>\n",
              "      <th>Holding_Policy_Duration_15</th>\n",
              "      <th>Holding_Policy_Type_0</th>\n",
              "      <th>Holding_Policy_Type_1</th>\n",
              "      <th>Holding_Policy_Type_2</th>\n",
              "      <th>Holding_Policy_Type_3</th>\n",
              "      <th>Holding_Policy_Type_4</th>\n",
              "      <th>Reco_Policy_Cat_0</th>\n",
              "      <th>Reco_Policy_Cat_1</th>\n",
              "      <th>Reco_Policy_Cat_2</th>\n",
              "      <th>Reco_Policy_Cat_3</th>\n",
              "      <th>Reco_Policy_Cat_4</th>\n",
              "      <th>Reco_Policy_Cat_5</th>\n",
              "      <th>Reco_Policy_Cat_6</th>\n",
              "      <th>Reco_Policy_Cat_7</th>\n",
              "      <th>Reco_Policy_Cat_8</th>\n",
              "      <th>Reco_Policy_Cat_9</th>\n",
              "      <th>Reco_Policy_Cat_10</th>\n",
              "      <th>Reco_Policy_Cat_11</th>\n",
              "      <th>Reco_Policy_Cat_12</th>\n",
              "      <th>Reco_Policy_Cat_13</th>\n",
              "      <th>Reco_Policy_Cat_14</th>\n",
              "      <th>Reco_Policy_Cat_15</th>\n",
              "      <th>Reco_Policy_Cat_16</th>\n",
              "      <th>Reco_Policy_Cat_17</th>\n",
              "      <th>Reco_Policy_Cat_18</th>\n",
              "      <th>Reco_Policy_Cat_19</th>\n",
              "      <th>Reco_Policy_Cat_20</th>\n",
              "      <th>Reco_Policy_Cat_21</th>\n",
              "      <th>Hold_Policy_0</th>\n",
              "      <th>Hold_Policy_1</th>\n",
              "      <th>Health_Missing_0</th>\n",
              "      <th>Health_Missing_1</th>\n",
              "    </tr>\n",
              "  </thead>\n",
              "  <tbody>\n",
              "    <tr>\n",
              "      <th>0</th>\n",
              "      <td>126</td>\n",
              "      <td>30</td>\n",
              "      <td>30</td>\n",
              "      <td>11934</td>\n",
              "      <td>0.000000</td>\n",
              "      <td>741</td>\n",
              "      <td>0.000000</td>\n",
              "      <td>0.180850</td>\n",
              "      <td>1</td>\n",
              "      <td>0</td>\n",
              "      <td>0</td>\n",
              "      <td>0</td>\n",
              "      <td>0</td>\n",
              "      <td>0</td>\n",
              "      <td>0</td>\n",
              "      <td>0</td>\n",
              "      <td>0</td>\n",
              "      <td>0</td>\n",
              "      <td>0</td>\n",
              "      <td>0</td>\n",
              "      <td>0</td>\n",
              "      <td>0</td>\n",
              "      <td>0</td>\n",
              "      <td>0</td>\n",
              "      <td>0</td>\n",
              "      <td>0</td>\n",
              "      <td>0</td>\n",
              "      <td>0</td>\n",
              "      <td>0</td>\n",
              "      <td>0</td>\n",
              "      <td>0</td>\n",
              "      <td>0</td>\n",
              "      <td>0</td>\n",
              "      <td>0</td>\n",
              "      <td>0</td>\n",
              "      <td>0</td>\n",
              "      <td>0</td>\n",
              "      <td>0</td>\n",
              "      <td>0</td>\n",
              "      <td>0</td>\n",
              "      <td>...</td>\n",
              "      <td>0</td>\n",
              "      <td>0</td>\n",
              "      <td>0</td>\n",
              "      <td>0</td>\n",
              "      <td>0</td>\n",
              "      <td>0</td>\n",
              "      <td>0</td>\n",
              "      <td>0</td>\n",
              "      <td>0</td>\n",
              "      <td>0</td>\n",
              "      <td>0</td>\n",
              "      <td>0</td>\n",
              "      <td>1</td>\n",
              "      <td>0</td>\n",
              "      <td>0</td>\n",
              "      <td>0</td>\n",
              "      <td>0</td>\n",
              "      <td>0</td>\n",
              "      <td>1</td>\n",
              "      <td>0</td>\n",
              "      <td>0</td>\n",
              "      <td>0</td>\n",
              "      <td>0</td>\n",
              "      <td>0</td>\n",
              "      <td>0</td>\n",
              "      <td>0</td>\n",
              "      <td>0</td>\n",
              "      <td>0</td>\n",
              "      <td>0</td>\n",
              "      <td>0</td>\n",
              "      <td>0</td>\n",
              "      <td>0</td>\n",
              "      <td>0</td>\n",
              "      <td>0</td>\n",
              "      <td>0</td>\n",
              "      <td>0</td>\n",
              "      <td>0</td>\n",
              "      <td>1</td>\n",
              "      <td>0</td>\n",
              "      <td>1</td>\n",
              "    </tr>\n",
              "    <tr>\n",
              "      <th>1</th>\n",
              "      <td>5</td>\n",
              "      <td>69</td>\n",
              "      <td>68</td>\n",
              "      <td>32204</td>\n",
              "      <td>0.243648</td>\n",
              "      <td>328</td>\n",
              "      <td>0.333333</td>\n",
              "      <td>0.072815</td>\n",
              "      <td>0</td>\n",
              "      <td>0</td>\n",
              "      <td>0</td>\n",
              "      <td>0</td>\n",
              "      <td>0</td>\n",
              "      <td>0</td>\n",
              "      <td>0</td>\n",
              "      <td>0</td>\n",
              "      <td>0</td>\n",
              "      <td>0</td>\n",
              "      <td>0</td>\n",
              "      <td>0</td>\n",
              "      <td>0</td>\n",
              "      <td>0</td>\n",
              "      <td>0</td>\n",
              "      <td>0</td>\n",
              "      <td>0</td>\n",
              "      <td>0</td>\n",
              "      <td>0</td>\n",
              "      <td>0</td>\n",
              "      <td>0</td>\n",
              "      <td>0</td>\n",
              "      <td>0</td>\n",
              "      <td>0</td>\n",
              "      <td>0</td>\n",
              "      <td>0</td>\n",
              "      <td>0</td>\n",
              "      <td>0</td>\n",
              "      <td>0</td>\n",
              "      <td>0</td>\n",
              "      <td>1</td>\n",
              "      <td>0</td>\n",
              "      <td>...</td>\n",
              "      <td>0</td>\n",
              "      <td>0</td>\n",
              "      <td>0</td>\n",
              "      <td>0</td>\n",
              "      <td>0</td>\n",
              "      <td>0</td>\n",
              "      <td>0</td>\n",
              "      <td>0</td>\n",
              "      <td>0</td>\n",
              "      <td>0</td>\n",
              "      <td>0</td>\n",
              "      <td>0</td>\n",
              "      <td>1</td>\n",
              "      <td>0</td>\n",
              "      <td>0</td>\n",
              "      <td>0</td>\n",
              "      <td>0</td>\n",
              "      <td>0</td>\n",
              "      <td>0</td>\n",
              "      <td>0</td>\n",
              "      <td>0</td>\n",
              "      <td>0</td>\n",
              "      <td>0</td>\n",
              "      <td>0</td>\n",
              "      <td>0</td>\n",
              "      <td>0</td>\n",
              "      <td>0</td>\n",
              "      <td>0</td>\n",
              "      <td>0</td>\n",
              "      <td>0</td>\n",
              "      <td>0</td>\n",
              "      <td>1</td>\n",
              "      <td>0</td>\n",
              "      <td>0</td>\n",
              "      <td>0</td>\n",
              "      <td>0</td>\n",
              "      <td>0</td>\n",
              "      <td>1</td>\n",
              "      <td>1</td>\n",
              "      <td>0</td>\n",
              "    </tr>\n",
              "    <tr>\n",
              "      <th>2</th>\n",
              "      <td>457</td>\n",
              "      <td>28</td>\n",
              "      <td>28</td>\n",
              "      <td>9240</td>\n",
              "      <td>0.000000</td>\n",
              "      <td>741</td>\n",
              "      <td>0.000000</td>\n",
              "      <td>0.180850</td>\n",
              "      <td>1</td>\n",
              "      <td>0</td>\n",
              "      <td>0</td>\n",
              "      <td>0</td>\n",
              "      <td>0</td>\n",
              "      <td>0</td>\n",
              "      <td>0</td>\n",
              "      <td>0</td>\n",
              "      <td>0</td>\n",
              "      <td>0</td>\n",
              "      <td>0</td>\n",
              "      <td>0</td>\n",
              "      <td>0</td>\n",
              "      <td>0</td>\n",
              "      <td>0</td>\n",
              "      <td>0</td>\n",
              "      <td>0</td>\n",
              "      <td>0</td>\n",
              "      <td>0</td>\n",
              "      <td>0</td>\n",
              "      <td>0</td>\n",
              "      <td>0</td>\n",
              "      <td>0</td>\n",
              "      <td>0</td>\n",
              "      <td>0</td>\n",
              "      <td>0</td>\n",
              "      <td>0</td>\n",
              "      <td>0</td>\n",
              "      <td>0</td>\n",
              "      <td>0</td>\n",
              "      <td>0</td>\n",
              "      <td>0</td>\n",
              "      <td>...</td>\n",
              "      <td>0</td>\n",
              "      <td>0</td>\n",
              "      <td>0</td>\n",
              "      <td>0</td>\n",
              "      <td>0</td>\n",
              "      <td>0</td>\n",
              "      <td>0</td>\n",
              "      <td>0</td>\n",
              "      <td>0</td>\n",
              "      <td>0</td>\n",
              "      <td>0</td>\n",
              "      <td>0</td>\n",
              "      <td>0</td>\n",
              "      <td>1</td>\n",
              "      <td>0</td>\n",
              "      <td>0</td>\n",
              "      <td>0</td>\n",
              "      <td>0</td>\n",
              "      <td>0</td>\n",
              "      <td>0</td>\n",
              "      <td>0</td>\n",
              "      <td>0</td>\n",
              "      <td>0</td>\n",
              "      <td>0</td>\n",
              "      <td>0</td>\n",
              "      <td>0</td>\n",
              "      <td>0</td>\n",
              "      <td>0</td>\n",
              "      <td>0</td>\n",
              "      <td>0</td>\n",
              "      <td>1</td>\n",
              "      <td>0</td>\n",
              "      <td>0</td>\n",
              "      <td>0</td>\n",
              "      <td>0</td>\n",
              "      <td>0</td>\n",
              "      <td>0</td>\n",
              "      <td>1</td>\n",
              "      <td>1</td>\n",
              "      <td>0</td>\n",
              "    </tr>\n",
              "    <tr>\n",
              "      <th>3</th>\n",
              "      <td>985</td>\n",
              "      <td>23</td>\n",
              "      <td>23</td>\n",
              "      <td>9086</td>\n",
              "      <td>0.000000</td>\n",
              "      <td>441</td>\n",
              "      <td>0.000000</td>\n",
              "      <td>0.095094</td>\n",
              "      <td>0</td>\n",
              "      <td>0</td>\n",
              "      <td>0</td>\n",
              "      <td>0</td>\n",
              "      <td>0</td>\n",
              "      <td>0</td>\n",
              "      <td>0</td>\n",
              "      <td>0</td>\n",
              "      <td>0</td>\n",
              "      <td>0</td>\n",
              "      <td>0</td>\n",
              "      <td>0</td>\n",
              "      <td>0</td>\n",
              "      <td>0</td>\n",
              "      <td>0</td>\n",
              "      <td>0</td>\n",
              "      <td>0</td>\n",
              "      <td>0</td>\n",
              "      <td>0</td>\n",
              "      <td>0</td>\n",
              "      <td>0</td>\n",
              "      <td>0</td>\n",
              "      <td>1</td>\n",
              "      <td>0</td>\n",
              "      <td>0</td>\n",
              "      <td>0</td>\n",
              "      <td>0</td>\n",
              "      <td>0</td>\n",
              "      <td>0</td>\n",
              "      <td>0</td>\n",
              "      <td>0</td>\n",
              "      <td>0</td>\n",
              "      <td>...</td>\n",
              "      <td>0</td>\n",
              "      <td>0</td>\n",
              "      <td>0</td>\n",
              "      <td>0</td>\n",
              "      <td>0</td>\n",
              "      <td>0</td>\n",
              "      <td>0</td>\n",
              "      <td>0</td>\n",
              "      <td>0</td>\n",
              "      <td>0</td>\n",
              "      <td>0</td>\n",
              "      <td>0</td>\n",
              "      <td>1</td>\n",
              "      <td>0</td>\n",
              "      <td>0</td>\n",
              "      <td>0</td>\n",
              "      <td>0</td>\n",
              "      <td>0</td>\n",
              "      <td>0</td>\n",
              "      <td>0</td>\n",
              "      <td>0</td>\n",
              "      <td>0</td>\n",
              "      <td>0</td>\n",
              "      <td>0</td>\n",
              "      <td>0</td>\n",
              "      <td>0</td>\n",
              "      <td>0</td>\n",
              "      <td>0</td>\n",
              "      <td>0</td>\n",
              "      <td>0</td>\n",
              "      <td>0</td>\n",
              "      <td>1</td>\n",
              "      <td>0</td>\n",
              "      <td>0</td>\n",
              "      <td>0</td>\n",
              "      <td>0</td>\n",
              "      <td>0</td>\n",
              "      <td>1</td>\n",
              "      <td>1</td>\n",
              "      <td>0</td>\n",
              "    </tr>\n",
              "    <tr>\n",
              "      <th>4</th>\n",
              "      <td>781</td>\n",
              "      <td>75</td>\n",
              "      <td>75</td>\n",
              "      <td>22534</td>\n",
              "      <td>0.000000</td>\n",
              "      <td>741</td>\n",
              "      <td>0.333333</td>\n",
              "      <td>0.180850</td>\n",
              "      <td>1</td>\n",
              "      <td>0</td>\n",
              "      <td>0</td>\n",
              "      <td>0</td>\n",
              "      <td>0</td>\n",
              "      <td>0</td>\n",
              "      <td>0</td>\n",
              "      <td>0</td>\n",
              "      <td>0</td>\n",
              "      <td>0</td>\n",
              "      <td>0</td>\n",
              "      <td>0</td>\n",
              "      <td>0</td>\n",
              "      <td>0</td>\n",
              "      <td>0</td>\n",
              "      <td>0</td>\n",
              "      <td>0</td>\n",
              "      <td>0</td>\n",
              "      <td>0</td>\n",
              "      <td>0</td>\n",
              "      <td>0</td>\n",
              "      <td>0</td>\n",
              "      <td>0</td>\n",
              "      <td>0</td>\n",
              "      <td>0</td>\n",
              "      <td>0</td>\n",
              "      <td>0</td>\n",
              "      <td>0</td>\n",
              "      <td>0</td>\n",
              "      <td>0</td>\n",
              "      <td>0</td>\n",
              "      <td>0</td>\n",
              "      <td>...</td>\n",
              "      <td>0</td>\n",
              "      <td>0</td>\n",
              "      <td>0</td>\n",
              "      <td>0</td>\n",
              "      <td>0</td>\n",
              "      <td>0</td>\n",
              "      <td>0</td>\n",
              "      <td>0</td>\n",
              "      <td>0</td>\n",
              "      <td>1</td>\n",
              "      <td>0</td>\n",
              "      <td>0</td>\n",
              "      <td>0</td>\n",
              "      <td>0</td>\n",
              "      <td>0</td>\n",
              "      <td>0</td>\n",
              "      <td>0</td>\n",
              "      <td>0</td>\n",
              "      <td>1</td>\n",
              "      <td>0</td>\n",
              "      <td>0</td>\n",
              "      <td>0</td>\n",
              "      <td>0</td>\n",
              "      <td>0</td>\n",
              "      <td>0</td>\n",
              "      <td>0</td>\n",
              "      <td>0</td>\n",
              "      <td>0</td>\n",
              "      <td>0</td>\n",
              "      <td>0</td>\n",
              "      <td>0</td>\n",
              "      <td>0</td>\n",
              "      <td>0</td>\n",
              "      <td>0</td>\n",
              "      <td>0</td>\n",
              "      <td>0</td>\n",
              "      <td>1</td>\n",
              "      <td>0</td>\n",
              "      <td>1</td>\n",
              "      <td>0</td>\n",
              "    </tr>\n",
              "  </tbody>\n",
              "</table>\n",
              "<p>5 rows × 107 columns</p>\n",
              "</div>"
            ],
            "text/plain": [
              "   Region_Code  Upper_Age  ...  Health_Missing_0  Health_Missing_1\n",
              "0          126         30  ...                 0                 1\n",
              "1            5         69  ...                 1                 0\n",
              "2          457         28  ...                 1                 0\n",
              "3          985         23  ...                 1                 0\n",
              "4          781         75  ...                 1                 0\n",
              "\n",
              "[5 rows x 107 columns]"
            ]
          },
          "metadata": {
            "tags": []
          },
          "execution_count": 383
        }
      ]
    },
    {
      "cell_type": "code",
      "metadata": {
        "id": "GpVL_8DyGfqK"
      },
      "source": [
        "test_df_new['Freq_Region'] = test_df_new['Region_Code'].apply(lambda x : fq.at[x] if x in fq.index else 0.0)\r\n",
        "test_df_new.drop(['Region_Code'], axis = 1, inplace = True)\r\n",
        "numeric_features.append('Freq_Region')"
      ],
      "execution_count": 384,
      "outputs": []
    },
    {
      "cell_type": "code",
      "metadata": {
        "id": "8gdGzwAQGsxB"
      },
      "source": [
        "sub_df = scaler.transform(test_df_new)"
      ],
      "execution_count": 385,
      "outputs": []
    },
    {
      "cell_type": "code",
      "metadata": {
        "id": "BkjqpL8zMpP7"
      },
      "source": [
        "predicted_prob = model.predict_proba(sub_df)[:, 1]"
      ],
      "execution_count": 386,
      "outputs": []
    },
    {
      "cell_type": "code",
      "metadata": {
        "colab": {
          "base_uri": "https://localhost:8080/"
        },
        "id": "shziJfp9yK53",
        "outputId": "82e457ba-78c4-4563-8774-501b09adb568"
      },
      "source": [
        "submission_xg = pd.DataFrame({'ID' : ids , 'Response' : predicted_prob})\r\n",
        "submission_xg.to_csv('submission_xg.csv', index= False)\r\n",
        "print(len(predicted_prob), len(sub_df))"
      ],
      "execution_count": 387,
      "outputs": [
        {
          "output_type": "stream",
          "text": [
            "21805 21805\n"
          ],
          "name": "stdout"
        }
      ]
    },
    {
      "cell_type": "code",
      "metadata": {
        "colab": {
          "base_uri": "https://localhost:8080/",
          "height": 195
        },
        "id": "3mdT0qFfNAb4",
        "outputId": "59b42625-ab7c-43d6-85e8-b660d25a5de9"
      },
      "source": [
        "xg_csv = pd.read_csv('submission_xg.csv')\r\n",
        "xg_csv.head()"
      ],
      "execution_count": 388,
      "outputs": [
        {
          "output_type": "execute_result",
          "data": {
            "text/html": [
              "<div>\n",
              "<style scoped>\n",
              "    .dataframe tbody tr th:only-of-type {\n",
              "        vertical-align: middle;\n",
              "    }\n",
              "\n",
              "    .dataframe tbody tr th {\n",
              "        vertical-align: top;\n",
              "    }\n",
              "\n",
              "    .dataframe thead th {\n",
              "        text-align: right;\n",
              "    }\n",
              "</style>\n",
              "<table border=\"1\" class=\"dataframe\">\n",
              "  <thead>\n",
              "    <tr style=\"text-align: right;\">\n",
              "      <th></th>\n",
              "      <th>ID</th>\n",
              "      <th>Response</th>\n",
              "    </tr>\n",
              "  </thead>\n",
              "  <tbody>\n",
              "    <tr>\n",
              "      <th>0</th>\n",
              "      <td>50883</td>\n",
              "      <td>0.515321</td>\n",
              "    </tr>\n",
              "    <tr>\n",
              "      <th>1</th>\n",
              "      <td>50884</td>\n",
              "      <td>0.477294</td>\n",
              "    </tr>\n",
              "    <tr>\n",
              "      <th>2</th>\n",
              "      <td>50885</td>\n",
              "      <td>0.533003</td>\n",
              "    </tr>\n",
              "    <tr>\n",
              "      <th>3</th>\n",
              "      <td>50886</td>\n",
              "      <td>0.461483</td>\n",
              "    </tr>\n",
              "    <tr>\n",
              "      <th>4</th>\n",
              "      <td>50887</td>\n",
              "      <td>0.485386</td>\n",
              "    </tr>\n",
              "  </tbody>\n",
              "</table>\n",
              "</div>"
            ],
            "text/plain": [
              "      ID  Response\n",
              "0  50883  0.515321\n",
              "1  50884  0.477294\n",
              "2  50885  0.533003\n",
              "3  50886  0.461483\n",
              "4  50887  0.485386"
            ]
          },
          "metadata": {
            "tags": []
          },
          "execution_count": 388
        }
      ]
    }
  ]
}